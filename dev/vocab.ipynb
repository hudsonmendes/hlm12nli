{
 "cells": [
  {
   "cell_type": "code",
   "execution_count": 1,
   "metadata": {},
   "outputs": [],
   "source": [
    "%load_ext autoreload\n",
    "%autoreload 2"
   ]
  },
  {
   "cell_type": "code",
   "execution_count": 2,
   "metadata": {},
   "outputs": [
    {
     "name": "stderr",
     "output_type": "stream",
     "text": [
      "/Users/hudsonmendes/Workspaces/hudsonmendes/hlm12nli/venv/lib/python3.11/site-packages/tqdm/auto.py:21: TqdmWarning: IProgress not found. Please update jupyter and ipywidgets. See https://ipywidgets.readthedocs.io/en/stable/user_install.html\n",
      "  from .autonotebook import tqdm as notebook_tqdm\n"
     ]
    }
   ],
   "source": [
    "from datasets import load_dataset"
   ]
  },
  {
   "cell_type": "code",
   "execution_count": 3,
   "metadata": {},
   "outputs": [],
   "source": [
    "ds = load_dataset(\"snli\")"
   ]
  },
  {
   "cell_type": "code",
   "execution_count": 4,
   "metadata": {},
   "outputs": [
    {
     "data": {
      "text/plain": [
       "DatasetDict({\n",
       "    test: Dataset({\n",
       "        features: ['premise', 'hypothesis', 'label'],\n",
       "        num_rows: 10000\n",
       "    })\n",
       "    validation: Dataset({\n",
       "        features: ['premise', 'hypothesis', 'label'],\n",
       "        num_rows: 10000\n",
       "    })\n",
       "    train: Dataset({\n",
       "        features: ['premise', 'hypothesis', 'label'],\n",
       "        num_rows: 550152\n",
       "    })\n",
       "})"
      ]
     },
     "execution_count": 4,
     "metadata": {},
     "output_type": "execute_result"
    }
   ],
   "source": [
    "ds"
   ]
  },
  {
   "cell_type": "code",
   "execution_count": 5,
   "metadata": {},
   "outputs": [
    {
     "data": {
      "text/plain": [
       "{'premise': Value(dtype='string', id=None),\n",
       " 'hypothesis': Value(dtype='string', id=None),\n",
       " 'label': ClassLabel(names=['entailment', 'neutral', 'contradiction'], id=None)}"
      ]
     },
     "execution_count": 5,
     "metadata": {},
     "output_type": "execute_result"
    }
   ],
   "source": [
    "ds[\"train\"].features"
   ]
  },
  {
   "cell_type": "code",
   "execution_count": 6,
   "metadata": {},
   "outputs": [
    {
     "data": {
      "text/plain": [
       "{'premise': ['A person on a horse jumps over a broken down airplane.',\n",
       "  'A person on a horse jumps over a broken down airplane.',\n",
       "  'A person on a horse jumps over a broken down airplane.'],\n",
       " 'hypothesis': ['A person is training his horse for a competition.',\n",
       "  'A person is at a diner, ordering an omelette.',\n",
       "  'A person is outdoors, on a horse.'],\n",
       " 'label': [1, 2, 0]}"
      ]
     },
     "execution_count": 6,
     "metadata": {},
     "output_type": "execute_result"
    }
   ],
   "source": [
    "ds[\"train\"][0:3]"
   ]
  },
  {
   "cell_type": "code",
   "execution_count": 7,
   "metadata": {},
   "outputs": [
    {
     "data": {
      "text/plain": [
       "['A',\n",
       " 'person',\n",
       " 'who',\n",
       " \"##'s\",\n",
       " 'on',\n",
       " 'a',\n",
       " 'horse',\n",
       " 'jumps',\n",
       " 'over',\n",
       " 'a',\n",
       " 'broken',\n",
       " 'down',\n",
       " 'airplane',\n",
       " '##.']"
      ]
     },
     "execution_count": 7,
     "metadata": {},
     "output_type": "execute_result"
    }
   ],
   "source": [
    "from typing import List\n",
    "\n",
    "\n",
    "def split_tokens_and_subtokens(sent: str) -> List[str]:\n",
    "    tokens = []\n",
    "    for token in sent.split():\n",
    "        # collect all chars of token until it finds a non-alphanumeric char\n",
    "        subtoken = \"\"\n",
    "        for char in token:\n",
    "            if char.isalnum():\n",
    "                subtoken += char\n",
    "            else:\n",
    "                if subtoken:\n",
    "                    tokens.append(subtoken)\n",
    "                subtoken = \"##\" + char\n",
    "        tokens.append(subtoken)\n",
    "    return tokens\n",
    "\n",
    "\n",
    "split_tokens_and_subtokens(\"A person who's on a horse jumps over a broken down airplane.\")"
   ]
  },
  {
   "cell_type": "code",
   "execution_count": 8,
   "metadata": {},
   "outputs": [],
   "source": [
    "from typing import Optional\n",
    "import itertools\n",
    "import random\n",
    "from tqdm.auto import tqdm\n",
    "from hlm12nli.tokenisation import Hlm12NliTextTokeniserConfig\n",
    "\n",
    "\n",
    "def produce_vocab_for(filepath: str, sample_size: Optional[int] = None) -> None:\n",
    "    ref = Hlm12NliTextTokeniserConfig()\n",
    "    data = ds[\"train\"][\"premise\"]\n",
    "    if sample_size is not None and sample_size > 0:\n",
    "        data = random.sample(data, sample_size)\n",
    "    vocab = sorted(set(itertools.chain(*[split_tokens_and_subtokens(sent) for sent in tqdm(data)])))\n",
    "    vocab = sorted(set([t.lower() for t in vocab]))\n",
    "    vocab.insert(0, ref.token_end)\n",
    "    vocab.insert(0, ref.token_str)\n",
    "    vocab.insert(0, ref.token_oov)\n",
    "    vocab.insert(0, ref.token_pad)\n",
    "    with open(filepath, \"w\") as f:\n",
    "        f.write(\"\\n\".join(vocab))"
   ]
  },
  {
   "cell_type": "code",
   "execution_count": 9,
   "metadata": {},
   "outputs": [
    {
     "name": "stderr",
     "output_type": "stream",
     "text": [
      "100%|██████████| 550152/550152 [00:10<00:00, 53404.35it/s]\n"
     ]
    }
   ],
   "source": [
    "produce_vocab_for(\"../data/vocab.txt\")"
   ]
  },
  {
   "cell_type": "code",
   "execution_count": 10,
   "metadata": {},
   "outputs": [
    {
     "name": "stderr",
     "output_type": "stream",
     "text": [
      "100%|██████████| 10/10 [00:00<00:00, 39199.10it/s]\n"
     ]
    }
   ],
   "source": [
    "produce_vocab_for(\"../tests/fixtures/vocab.txt\", sample_size=10)"
   ]
  }
 ],
 "metadata": {
  "kernelspec": {
   "display_name": "venv",
   "language": "python",
   "name": "python3"
  },
  "language_info": {
   "codemirror_mode": {
    "name": "ipython",
    "version": 3
   },
   "file_extension": ".py",
   "mimetype": "text/x-python",
   "name": "python",
   "nbconvert_exporter": "python",
   "pygments_lexer": "ipython3",
   "version": "3.11.9"
  }
 },
 "nbformat": 4,
 "nbformat_minor": 2
}

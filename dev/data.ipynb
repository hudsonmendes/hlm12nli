{
 "cells": [
  {
   "cell_type": "code",
   "execution_count": null,
   "metadata": {},
   "outputs": [],
   "source": [
    "from datasets import load_dataset"
   ]
  },
  {
   "cell_type": "code",
   "execution_count": null,
   "metadata": {},
   "outputs": [],
   "source": [
    "ds = load_dataset(\"snli\")"
   ]
  },
  {
   "cell_type": "code",
   "execution_count": null,
   "metadata": {},
   "outputs": [],
   "source": [
    "ds"
   ]
  },
  {
   "cell_type": "code",
   "execution_count": null,
   "metadata": {},
   "outputs": [],
   "source": [
    "ds[\"train\"].features"
   ]
  },
  {
   "cell_type": "code",
   "execution_count": null,
   "metadata": {},
   "outputs": [],
   "source": [
    "ds[\"train\"][0:3]"
   ]
  },
  {
   "cell_type": "code",
   "execution_count": 21,
   "metadata": {},
   "outputs": [
    {
     "data": {
      "text/plain": [
       "['A',\n",
       " 'person',\n",
       " 'who',\n",
       " \"##'s\",\n",
       " 'on',\n",
       " 'a',\n",
       " 'horse',\n",
       " 'jumps',\n",
       " 'over',\n",
       " 'a',\n",
       " 'broken',\n",
       " 'down',\n",
       " 'airplane',\n",
       " '##.']"
      ]
     },
     "execution_count": 21,
     "metadata": {},
     "output_type": "execute_result"
    }
   ],
   "source": [
    "from typing import List\n",
    "\n",
    "\n",
    "def split_tokens_and_subtokens(sent: str) -> List[str]:\n",
    "    tokens = []\n",
    "    for token in sent.split():\n",
    "        # collect all chars of token until it finds a non-alphanumeric char\n",
    "        subtoken = \"\"\n",
    "        for char in token:\n",
    "            if char.isalnum():\n",
    "                subtoken += char\n",
    "            else:\n",
    "                if subtoken:\n",
    "                    tokens.append(subtoken)\n",
    "                subtoken = \"##\" + char\n",
    "        tokens.append(subtoken)\n",
    "    return tokens\n",
    "\n",
    "\n",
    "split_tokens_and_subtokens(\"A person who's on a horse jumps over a broken down airplane.\")"
   ]
  },
  {
   "cell_type": "code",
   "execution_count": 24,
   "metadata": {},
   "outputs": [],
   "source": [
    "from typing import Optional\n",
    "import itertools\n",
    "import random\n",
    "from tqdm.auto import tqdm\n",
    "from hlm12nli.tokenisation import Hlm12NliTextTokeniserConfig\n",
    "\n",
    "\n",
    "def produce_vocab_for(filepath: str, sample_size: Optional[int] = None) -> None:\n",
    "    ref = Hlm12NliTextTokeniserConfig()\n",
    "    data = ds[\"train\"][\"premise\"]\n",
    "    if sample_size is not None and sample_size > 0:\n",
    "        data = random.sample(data, sample_size)\n",
    "    vocab = sorted(set(itertools.chain(*[split_tokens_and_subtokens(sent) for sent in tqdm(data)])))\n",
    "    vocab = sorted(set([t.lower() for t in vocab]))\n",
    "    vocab.insert(0, ref.token_end)\n",
    "    vocab.insert(0, ref.token_str)\n",
    "    vocab.insert(0, ref.token_oov)\n",
    "    vocab.insert(0, ref.token_pad)\n",
    "    with open(filepath, \"w\") as f:\n",
    "        f.write(\"\\n\".join(vocab))"
   ]
  },
  {
   "cell_type": "code",
   "execution_count": 25,
   "metadata": {},
   "outputs": [
    {
     "name": "stderr",
     "output_type": "stream",
     "text": [
      "100%|██████████| 550152/550152 [00:14<00:00, 38103.18it/s]\n"
     ]
    }
   ],
   "source": [
    "produce_vocab_for(\"../data/vocab.txt\")"
   ]
  },
  {
   "cell_type": "code",
   "execution_count": 26,
   "metadata": {},
   "outputs": [
    {
     "name": "stderr",
     "output_type": "stream",
     "text": [
      "100%|██████████| 10/10 [00:00<00:00, 2529.74it/s]\n"
     ]
    }
   ],
   "source": [
    "produce_vocab_for(\"../tests/fixtures/vocab.txt\", sample_size=10)"
   ]
  },
  {
   "cell_type": "code",
   "execution_count": null,
   "metadata": {},
   "outputs": [],
   "source": []
  }
 ],
 "metadata": {
  "kernelspec": {
   "display_name": "venv",
   "language": "python",
   "name": "python3"
  },
  "language_info": {
   "codemirror_mode": {
    "name": "ipython",
    "version": 3
   },
   "file_extension": ".py",
   "mimetype": "text/x-python",
   "name": "python",
   "nbconvert_exporter": "python",
   "pygments_lexer": "ipython3",
   "version": "3.11.9"
  }
 },
 "nbformat": 4,
 "nbformat_minor": 2
}
